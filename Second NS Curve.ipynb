{
 "cells": [
  {
   "attachments": {},
   "cell_type": "markdown",
   "metadata": {},
   "source": [
    "okay...let's try to import some data and then clean it up using pandas in order to fit a curve\n",
    "https://www.ishares.com/us/products/239566/ishares-iboxx-investment-grade-corporate-bond-etf"
   ]
  },
  {
   "cell_type": "code",
   "execution_count": 14,
   "metadata": {},
   "outputs": [],
   "source": [
    "import pandas as pd"
   ]
  },
  {
   "cell_type": "code",
   "execution_count": 15,
   "metadata": {},
   "outputs": [],
   "source": [
    "df = pd.read_excel('C:/Users/dstoc/Documents/Python Scripts/First Project/QLTA.xlsx')"
   ]
  },
  {
   "cell_type": "code",
   "execution_count": 16,
   "metadata": {},
   "outputs": [
    {
     "name": "stdout",
     "output_type": "stream",
     "text": [
      "                                Name                 Sector   Asset Class  \\\n",
      "0       ANHEUSER-BUSCH COMPANIES LLC  Consumer Non-Cyclical  Fixed Income   \n",
      "1  PFIZER INVESTMENT ENTERPRISES PTE  Consumer Non-Cyclical  Fixed Income   \n",
      "2  PFIZER INVESTMENT ENTERPRISES PTE  Consumer Non-Cyclical  Fixed Income   \n",
      "3              MICROSOFT CORPORATION             Technology  Fixed Income   \n",
      "4                           VISA INC             Technology  Fixed Income   \n",
      "5          WELLS FARGO & COMPANY MTN                Banking  Fixed Income   \n",
      "6          WELLS FARGO & COMPANY MTN                Banking  Fixed Income   \n",
      "7              MICROSOFT CORPORATION             Technology  Fixed Income   \n",
      "8                      CITIGROUP INC                Banking  Fixed Income   \n",
      "9                          APPLE INC             Technology  Fixed Income   \n",
      "\n",
      "       CUSIP  Market Value  Weight (%)  Notional Value  Par Value  \\\n",
      "0  03522AAJ9    3972588.66     0.45249      3972588.66    4105000   \n",
      "1  716973AG7    1867674.61     0.21273      1867674.61    1805000   \n",
      "2  716973AE2    1636331.22     0.18638      1636331.22    1625000   \n",
      "3  594918CE2    1448999.23     0.16505      1448999.23    1944000   \n",
      "4  92826CAD4    1367019.04     0.15571      1367019.04    1396000   \n",
      "5  95000U2M4    1351960.38     0.15399      1351960.38    1462000   \n",
      "6  95000U3B7    1299970.27     0.14807      1299970.27    1325000   \n",
      "7  594918CC6    1260102.82     0.14353      1260102.82    1839000   \n",
      "8  172967MP3    1254766.27     0.14292      1254766.27    1324000   \n",
      "9  037833BX7    1203863.80     0.13712      1203863.80    1197000   \n",
      "\n",
      "        Location Exchange  ...      Maturity  Coupon (%)  Mod. Duration  \\\n",
      "0        Belgium       --  ...  Feb 01, 2046        4.90          13.10   \n",
      "1  United States       --  ...  May 19, 2053        5.30          15.13   \n",
      "2  United States       --  ...  May 19, 2033        4.75           7.85   \n",
      "3  United States       --  ...  Mar 17, 2052        2.92          17.41   \n",
      "4  United States       --  ...  Dec 14, 2025        3.15           2.35   \n",
      "5  United States       --  ...  Apr 04, 2051        5.01          14.02   \n",
      "6  United States       --  ...  Jul 25, 2033        4.90           7.11   \n",
      "7  United States       --  ...  Jun 01, 2050        2.52          17.53   \n",
      "8  United States       --  ...  Mar 31, 2031        4.41           5.72   \n",
      "9  United States       --  ...  Feb 23, 2046        4.65          13.72   \n",
      "\n",
      "   Yield to Call (%) Yield to Worst (%)  Real Duration  Real YTM (%)  \\\n",
      "0                 --               5.27          13.10          5.27   \n",
      "1                 --               5.09          15.02          5.09   \n",
      "2                 --               4.69           7.69          4.69   \n",
      "3                 --               4.56          17.41          4.56   \n",
      "4                 --               4.67           2.35          4.67   \n",
      "5                 --               5.62          13.97          5.62   \n",
      "6                 --               5.41           7.11          5.41   \n",
      "7                 --               4.57          17.53          4.57   \n",
      "8                 --               5.48           5.72          5.48   \n",
      "9                 --               4.70          13.72          4.70   \n",
      "\n",
      "  Market Currency  Accrual Date  Effective Date  \n",
      "0             USD  Feb 01, 2019    May 13, 2019  \n",
      "1             USD  May 19, 2023    May 19, 2023  \n",
      "2             USD  May 19, 2023    May 19, 2023  \n",
      "3             USD  Mar 17, 2021    Mar 17, 2021  \n",
      "4             USD  Dec 14, 2015    Dec 14, 2015  \n",
      "5             USD  Mar 30, 2020    Mar 30, 2020  \n",
      "6             USD  Jul 25, 2022    Jul 25, 2022  \n",
      "7             USD  Jun 01, 2020    Jun 01, 2020  \n",
      "8             USD  Mar 31, 2020    Mar 31, 2020  \n",
      "9             USD  Feb 23, 2016    Feb 23, 2016  \n",
      "\n",
      "[10 rows x 24 columns]\n"
     ]
    }
   ],
   "source": [
    "print(df.head(10))"
   ]
  },
  {
   "cell_type": "code",
   "execution_count": 17,
   "metadata": {},
   "outputs": [
    {
     "name": "stdout",
     "output_type": "stream",
     "text": [
      "<bound method NDFrame.tail of                                     Name                 Sector   Asset Class  \\\n",
      "0           ANHEUSER-BUSCH COMPANIES LLC  Consumer Non-Cyclical  Fixed Income   \n",
      "1      PFIZER INVESTMENT ENTERPRISES PTE  Consumer Non-Cyclical  Fixed Income   \n",
      "2      PFIZER INVESTMENT ENTERPRISES PTE  Consumer Non-Cyclical  Fixed Income   \n",
      "3                  MICROSOFT CORPORATION             Technology  Fixed Income   \n",
      "4                               VISA INC             Technology  Fixed Income   \n",
      "...                                  ...                    ...           ...   \n",
      "2735                         ONE GAS INC            Natural Gas  Fixed Income   \n",
      "2736  MITSUBISHI UFJ FINANCIAL GROUP INC                Banking  Fixed Income   \n",
      "2737                           3M CO MTN          Capital Goods  Fixed Income   \n",
      "2738         JOHN DEERE CAPITAL CORP MTN          Capital Goods  Fixed Income   \n",
      "2739         JOHN DEERE CAPITAL CORP MTN          Capital Goods  Fixed Income   \n",
      "\n",
      "          CUSIP  Market Value  Weight (%)  Notional Value  Par Value  \\\n",
      "0     03522AAJ9    3972588.66     0.45249      3972588.66    4105000   \n",
      "1     716973AG7    1867674.61     0.21273      1867674.61    1805000   \n",
      "2     716973AE2    1636331.22     0.18638      1636331.22    1625000   \n",
      "3     594918CE2    1448999.23     0.16505      1448999.23    1944000   \n",
      "4     92826CAD4    1367019.04     0.15571      1367019.04    1396000   \n",
      "...         ...           ...         ...             ...        ...   \n",
      "2735  68235PAF5       9199.74     0.00105         9199.74      10000   \n",
      "2736  606822BB9       9159.87     0.00104         9159.87      10000   \n",
      "2737  88579YAW1       8179.49     0.00093         8179.49      12000   \n",
      "2738  24422EWT2       5117.13     0.00058         5117.13       5000   \n",
      "2739  24422EWV7       5130.14     0.00058         5130.14       5000   \n",
      "\n",
      "           Location Exchange  ...      Maturity  Coupon (%)  Mod. Duration  \\\n",
      "0           Belgium       --  ...  Feb 01, 2046        4.90          13.10   \n",
      "1     United States       --  ...  May 19, 2053        5.30          15.13   \n",
      "2     United States       --  ...  May 19, 2033        4.75           7.85   \n",
      "3     United States       --  ...  Mar 17, 2052        2.92          17.41   \n",
      "4     United States       --  ...  Dec 14, 2025        3.15           2.35   \n",
      "...             ...      ...  ...           ...         ...            ...   \n",
      "2735  United States       --  ...  Feb 01, 2044        4.66          12.50   \n",
      "2736          Japan       --  ...  Jul 26, 2038        4.29          10.59   \n",
      "2737  United States       --  ...  Sep 19, 2046        3.13          14.49   \n",
      "2738  United States       --  ...  Mar 03, 2026        5.05           2.51   \n",
      "2739  United States       --  ...  Mar 03, 2028        4.90           4.15   \n",
      "\n",
      "      Yield to Call (%) Yield to Worst (%)  Real Duration  Real YTM (%)  \\\n",
      "0                    --               5.27          13.10          5.27   \n",
      "1                    --               5.09          15.02          5.09   \n",
      "2                    --               4.69           7.69          4.69   \n",
      "3                    --               4.56          17.41          4.56   \n",
      "4                    --               4.67           2.35          4.67   \n",
      "...                 ...                ...            ...           ...   \n",
      "2735                 --               5.44          12.50          5.44   \n",
      "2736                 --               5.25          10.59          5.25   \n",
      "2737                 --               5.65          14.49          5.65   \n",
      "2738                 --               4.64           2.51          4.64   \n",
      "2739                 --               4.58           4.15          4.58   \n",
      "\n",
      "     Market Currency  Accrual Date  Effective Date  \n",
      "0                USD  Feb 01, 2019    May 13, 2019  \n",
      "1                USD  May 19, 2023    May 19, 2023  \n",
      "2                USD  May 19, 2023    May 19, 2023  \n",
      "3                USD  Mar 17, 2021    Mar 17, 2021  \n",
      "4                USD  Dec 14, 2015    Dec 14, 2015  \n",
      "...              ...           ...             ...  \n",
      "2735             USD  Aug 01, 2014    Oct 07, 2014  \n",
      "2736             USD  Jul 26, 2018    Jul 26, 2018  \n",
      "2737             USD  Sep 19, 2016    Sep 19, 2016  \n",
      "2738             USD  Mar 03, 2023    Mar 03, 2023  \n",
      "2739             USD  Mar 03, 2023    Mar 03, 2023  \n",
      "\n",
      "[2740 rows x 24 columns]>\n"
     ]
    }
   ],
   "source": [
    "print(df.tail)"
   ]
  },
  {
   "cell_type": "code",
   "execution_count": 18,
   "metadata": {},
   "outputs": [
    {
     "data": {
      "text/plain": [
       "['Name',\n",
       " 'Sector',\n",
       " 'Asset Class',\n",
       " 'CUSIP',\n",
       " 'Market Value',\n",
       " 'Weight (%)',\n",
       " 'Notional Value',\n",
       " 'Par Value',\n",
       " 'Location',\n",
       " 'Exchange',\n",
       " 'Currency',\n",
       " 'Duration',\n",
       " 'YTM (%)',\n",
       " 'FX Rate',\n",
       " 'Maturity',\n",
       " 'Coupon (%)',\n",
       " 'Mod. Duration',\n",
       " 'Yield to Call (%)',\n",
       " 'Yield to Worst (%)',\n",
       " 'Real Duration',\n",
       " 'Real YTM (%)',\n",
       " 'Market Currency',\n",
       " 'Accrual Date',\n",
       " 'Effective Date']"
      ]
     },
     "execution_count": 18,
     "metadata": {},
     "output_type": "execute_result"
    }
   ],
   "source": [
    "list(df.columns)"
   ]
  },
  {
   "cell_type": "code",
   "execution_count": 19,
   "metadata": {},
   "outputs": [],
   "source": [
    "df2 = df[['Name',\n",
    " 'Sector',\n",
    " 'Weight (%)',\n",
    " 'Notional Value',\n",
    " 'CUSIP',\n",
    " #'Price',\n",
    " 'Duration',\n",
    " 'YTM (%)',\n",
    " 'Maturity',\n",
    " 'Coupon (%)',\n",
    " 'Mod. Duration',\n",
    " 'Yield to Worst (%)']]\n",
    "\n",
    "df2 = df2.iloc[0:len(df2),]"
   ]
  },
  {
   "cell_type": "code",
   "execution_count": 20,
   "metadata": {},
   "outputs": [
    {
     "name": "stdout",
     "output_type": "stream",
     "text": [
      "22.66849315068493\n"
     ]
    }
   ],
   "source": [
    "from datetime import datetime\n",
    "date_str = \"1-Feb-46\"\n",
    "date_format = \"%d-%b-%y\"\n",
    "\n",
    "# Convert the date string to a datetime object\n",
    "date_obj = datetime.strptime(date_str, date_format)\n",
    "\n",
    "# Get the current date as a datetime object\n",
    "current_date = datetime.now()\n",
    "\n",
    "# Calculate the difference in days\n",
    "years_away = (date_obj - current_date).days / 365\n",
    "\n",
    "print(years_away)"
   ]
  },
  {
   "cell_type": "code",
   "execution_count": 21,
   "metadata": {},
   "outputs": [
    {
     "name": "stdout",
     "output_type": "stream",
     "text": [
      "        Date  Days Away\n",
      "0  13-May-19      -1487\n",
      "1  15-Jun-19      -1454\n",
      "2  22-Jul-19      -1417\n"
     ]
    }
   ],
   "source": [
    "import pandas as pd\n",
    "from datetime import datetime\n",
    "\n",
    "# Create a sample DataFrame with a 'Date' column\n",
    "data = {'Date': ['13-May-19', '15-Jun-19', '22-Jul-19']}\n",
    "df_example = pd.DataFrame(data)\n",
    "\n",
    "# Define the date format\n",
    "date_format = \"%d-%b-%y\"\n",
    "\n",
    "# Define a function to convert a date string to the number of days away\n",
    "def convert_to_days(date_str):\n",
    "    date_obj = datetime.strptime(date_str, date_format)\n",
    "    current_date = datetime.now()\n",
    "    days_away = (date_obj - current_date).days\n",
    "    return days_away\n",
    "\n",
    "# Apply the function to the 'Date' column\n",
    "df_example['Days Away'] = df_example['Date'].apply(convert_to_days)\n",
    "\n",
    "# Print the updated DataFrame\n",
    "print(df_example)\n"
   ]
  },
  {
   "cell_type": "code",
   "execution_count": 22,
   "metadata": {},
   "outputs": [
    {
     "name": "stdout",
     "output_type": "stream",
     "text": [
      "                                    Name                 Sector  Weight (%)  \\\n",
      "0           ANHEUSER-BUSCH COMPANIES LLC  Consumer Non-Cyclical     0.45249   \n",
      "1      PFIZER INVESTMENT ENTERPRISES PTE  Consumer Non-Cyclical     0.21273   \n",
      "2      PFIZER INVESTMENT ENTERPRISES PTE  Consumer Non-Cyclical     0.18638   \n",
      "3                  MICROSOFT CORPORATION             Technology     0.16505   \n",
      "4                               VISA INC             Technology     0.15571   \n",
      "...                                  ...                    ...         ...   \n",
      "2735                         ONE GAS INC            Natural Gas     0.00105   \n",
      "2736  MITSUBISHI UFJ FINANCIAL GROUP INC                Banking     0.00104   \n",
      "2737                           3M CO MTN          Capital Goods     0.00093   \n",
      "2738         JOHN DEERE CAPITAL CORP MTN          Capital Goods     0.00058   \n",
      "2739         JOHN DEERE CAPITAL CORP MTN          Capital Goods     0.00058   \n",
      "\n",
      "      Notional Value      CUSIP  Duration  YTM (%)      Maturity  Coupon (%)  \\\n",
      "0         3972588.66  03522AAJ9     13.02     5.27  Feb 01, 2046        4.90   \n",
      "1         1867674.61  716973AG7     15.16     5.09  May 19, 2053        5.30   \n",
      "2         1636331.22  716973AE2      7.83     4.69  May 19, 2033        4.75   \n",
      "3         1448999.23  594918CE2     17.40     4.56  Mar 17, 2052        2.92   \n",
      "4         1367019.04  92826CAD4      2.28     4.67  Dec 14, 2025        3.15   \n",
      "...              ...        ...       ...      ...           ...         ...   \n",
      "2735         9199.74  68235PAF5     12.44     5.44  Feb 01, 2044        4.66   \n",
      "2736         9159.87  606822BB9     10.68     5.25  Jul 26, 2038        4.29   \n",
      "2737         8179.49  88579YAW1     14.46     5.65  Sep 19, 2046        3.13   \n",
      "2738         5117.13  24422EWT2      2.51     4.64  Mar 03, 2026        5.05   \n",
      "2739         5130.14  24422EWV7      4.16     4.58  Mar 03, 2028        4.90   \n",
      "\n",
      "      Mod. Duration  Yield to Worst (%)  MaturityYears  \n",
      "0             13.10                5.27      22.668493  \n",
      "1             15.13                5.09      29.967123  \n",
      "2              7.85                4.69       9.953425  \n",
      "3             17.41                4.56      28.794521  \n",
      "4              2.35                4.67       2.520548  \n",
      "...             ...                 ...            ...  \n",
      "2735          12.50                5.44      20.665753  \n",
      "2736          10.59                5.25      15.142466  \n",
      "2737          14.49                5.65      23.298630  \n",
      "2738           2.51                4.64       2.736986  \n",
      "2739           4.15                4.58       4.739726  \n",
      "\n",
      "[2740 rows x 12 columns]\n"
     ]
    }
   ],
   "source": [
    "import pandas as pd\n",
    "from datetime import datetime, timedelta\n",
    "\n",
    "# Create a sample DataFrame with a 'Date' column\n",
    "#data = {'Date': ['13-May-19', '15-Jun-19', '22-Jul-19']}\n",
    "#df = pd.DataFrame(data)\n",
    "\n",
    "# Define the date format\n",
    "date_format = \"%b %d, %Y\"\n",
    "\n",
    "# Define a function to convert a date string to the number of days away\n",
    "def convert_to_years(date_str):\n",
    "    date_obj = datetime.strptime(date_str, date_format)\n",
    "    current_date = datetime.now()\n",
    "    years_away = (date_obj - current_date).days / 365\n",
    "\n",
    "    if years_away < 0:\n",
    "        years_away = years_away + 100  # Add 100 years (365.25 days per year on average)\n",
    "    \n",
    "    return years_away\n",
    "\n",
    "# Apply the function to the 'Date' column\n",
    "df2['MaturityYears'] = df2['Maturity'].apply(convert_to_years)\n",
    "\n",
    "# Print the updated DataFrame\n",
    "print(df2)\n"
   ]
  },
  {
   "cell_type": "code",
   "execution_count": 23,
   "metadata": {},
   "outputs": [],
   "source": [
    "import numpy as np\n",
    "from nelson_siegel_svensson.calibrate import calibrate_ns_ols, errorfn_ns_ols\n",
    "from matplotlib import pyplot as plt"
   ]
  },
  {
   "cell_type": "code",
   "execution_count": 24,
   "metadata": {},
   "outputs": [
    {
     "data": {
      "text/plain": [
       "array(['Consumer Non-Cyclical', 'Technology', 'Banking',\n",
       "       'Consumer Cyclical', 'Communications', 'Energy', 'Insurance',\n",
       "       'Transportation', 'Basic Industry', 'Electric', 'Capital Goods',\n",
       "       'Brokerage/Asset Managers/Exchanges', 'Reits', 'Natural Gas',\n",
       "       'Industrial Other', 'Financial Other'], dtype=object)"
      ]
     },
     "execution_count": 24,
     "metadata": {},
     "output_type": "execute_result"
    }
   ],
   "source": [
    "df2['Sector'].unique()"
   ]
  },
  {
   "cell_type": "code",
   "execution_count": 42,
   "metadata": {},
   "outputs": [
    {
     "data": {
      "text/plain": [
       "<bound method NDFrame.head of                               Name          Sector  Weight (%)  \\\n",
       "12             COMCAST CORPORATION  Communications     0.13284   \n",
       "22             COMCAST CORPORATION  Communications     0.12227   \n",
       "24              META PLATFORMS INC  Communications     0.12065   \n",
       "31             COMCAST CORPORATION  Communications     0.11518   \n",
       "57             COMCAST CORPORATION  Communications     0.10362   \n",
       "...                            ...             ...         ...   \n",
       "2121                WALT DISNEY CO  Communications     0.01936   \n",
       "2248           COMCAST CORPORATION  Communications     0.01787   \n",
       "2299  TWDC ENTERPRISES 18 CORP MTN  Communications     0.01708   \n",
       "2402           COMCAST CORPORATION  Communications     0.01529   \n",
       "2474                WALT DISNEY CO  Communications     0.01382   \n",
       "\n",
       "      Notional Value      CUSIP  Duration  YTM (%)      Maturity  Coupon (%)  \\\n",
       "12        1166292.35  20030NDU2     17.87     5.25  Nov 01, 2056        2.94   \n",
       "22        1073422.36  20030NCT6      4.66     4.75  Oct 15, 2028        4.15   \n",
       "24        1059267.82  30303M8J4     14.91     5.51  Aug 15, 2052        4.45   \n",
       "31        1011251.48  20030NDS7     16.71     5.24  Nov 01, 2051        2.89   \n",
       "57         909704.95  20030NCS8      2.14     4.86  Oct 15, 2025        3.95   \n",
       "...              ...        ...       ...      ...           ...         ...   \n",
       "2121       169960.76  254687ET9     12.19     5.29  Oct 01, 2043        5.40   \n",
       "2248       156920.47  20030NBT7     10.13     5.07  Jul 15, 2036        3.20   \n",
       "2299       149915.70  25468PDN3     14.84     5.19  Jul 30, 2046        3.00   \n",
       "2402       134262.30  20030NAM3      9.30     5.37  Mar 15, 2037        6.45   \n",
       "2474       121288.09  254687FK7      1.19     5.32  Aug 30, 2024        1.75   \n",
       "\n",
       "      Mod. Duration  Yield to Worst (%)  MaturityYears  \n",
       "12            17.66                5.25      33.424658  \n",
       "22             4.71                4.75       5.358904  \n",
       "24            14.85                5.51      29.208219  \n",
       "31            16.67                5.24      28.419178  \n",
       "57             2.21                4.86       2.356164  \n",
       "...             ...                 ...            ...  \n",
       "2121          12.20                5.29      20.328767  \n",
       "2248          10.10                5.07      13.112329  \n",
       "2299          14.84                5.19      23.158904  \n",
       "2402           9.20                5.37      13.778082  \n",
       "2474           1.19                5.32       1.230137  \n",
       "\n",
       "[99 rows x 12 columns]>"
      ]
     },
     "execution_count": 42,
     "metadata": {},
     "output_type": "execute_result"
    }
   ],
   "source": [
    "df3 = df2.loc[df2['Sector'] == 'Communications']\n",
    "df3.head"
   ]
  },
  {
   "cell_type": "code",
   "execution_count": 79,
   "metadata": {},
   "outputs": [
    {
     "data": {
      "text/html": [
       "<div>\n",
       "<style scoped>\n",
       "    .dataframe tbody tr th:only-of-type {\n",
       "        vertical-align: middle;\n",
       "    }\n",
       "\n",
       "    .dataframe tbody tr th {\n",
       "        vertical-align: top;\n",
       "    }\n",
       "\n",
       "    .dataframe thead th {\n",
       "        text-align: right;\n",
       "    }\n",
       "</style>\n",
       "<table border=\"1\" class=\"dataframe\">\n",
       "  <thead>\n",
       "    <tr style=\"text-align: right;\">\n",
       "      <th></th>\n",
       "      <th>Name</th>\n",
       "      <th>Sector</th>\n",
       "      <th>Weight (%)</th>\n",
       "      <th>Notional Value</th>\n",
       "      <th>CUSIP</th>\n",
       "      <th>Duration</th>\n",
       "      <th>YTM (%)</th>\n",
       "      <th>Maturity</th>\n",
       "      <th>Coupon (%)</th>\n",
       "      <th>Mod. Duration</th>\n",
       "      <th>Yield to Worst (%)</th>\n",
       "      <th>MaturityYears</th>\n",
       "    </tr>\n",
       "  </thead>\n",
       "  <tbody>\n",
       "    <tr>\n",
       "      <th>12</th>\n",
       "      <td>COMCAST CORPORATION</td>\n",
       "      <td>Communications</td>\n",
       "      <td>0.13284</td>\n",
       "      <td>1166292.35</td>\n",
       "      <td>20030NDU2</td>\n",
       "      <td>17.87</td>\n",
       "      <td>5.25</td>\n",
       "      <td>Nov 01, 2056</td>\n",
       "      <td>2.94</td>\n",
       "      <td>17.66</td>\n",
       "      <td>5.25</td>\n",
       "      <td>33.424658</td>\n",
       "    </tr>\n",
       "    <tr>\n",
       "      <th>22</th>\n",
       "      <td>COMCAST CORPORATION</td>\n",
       "      <td>Communications</td>\n",
       "      <td>0.12227</td>\n",
       "      <td>1073422.36</td>\n",
       "      <td>20030NCT6</td>\n",
       "      <td>4.66</td>\n",
       "      <td>4.75</td>\n",
       "      <td>Oct 15, 2028</td>\n",
       "      <td>4.15</td>\n",
       "      <td>4.71</td>\n",
       "      <td>4.75</td>\n",
       "      <td>5.358904</td>\n",
       "    </tr>\n",
       "    <tr>\n",
       "      <th>24</th>\n",
       "      <td>META PLATFORMS INC</td>\n",
       "      <td>Communications</td>\n",
       "      <td>0.12065</td>\n",
       "      <td>1059267.82</td>\n",
       "      <td>30303M8J4</td>\n",
       "      <td>14.91</td>\n",
       "      <td>5.51</td>\n",
       "      <td>Aug 15, 2052</td>\n",
       "      <td>4.45</td>\n",
       "      <td>14.85</td>\n",
       "      <td>5.51</td>\n",
       "      <td>29.208219</td>\n",
       "    </tr>\n",
       "    <tr>\n",
       "      <th>31</th>\n",
       "      <td>COMCAST CORPORATION</td>\n",
       "      <td>Communications</td>\n",
       "      <td>0.11518</td>\n",
       "      <td>1011251.48</td>\n",
       "      <td>20030NDS7</td>\n",
       "      <td>16.71</td>\n",
       "      <td>5.24</td>\n",
       "      <td>Nov 01, 2051</td>\n",
       "      <td>2.89</td>\n",
       "      <td>16.67</td>\n",
       "      <td>5.24</td>\n",
       "      <td>28.419178</td>\n",
       "    </tr>\n",
       "    <tr>\n",
       "      <th>57</th>\n",
       "      <td>COMCAST CORPORATION</td>\n",
       "      <td>Communications</td>\n",
       "      <td>0.10362</td>\n",
       "      <td>909704.95</td>\n",
       "      <td>20030NCS8</td>\n",
       "      <td>2.14</td>\n",
       "      <td>4.86</td>\n",
       "      <td>Oct 15, 2025</td>\n",
       "      <td>3.95</td>\n",
       "      <td>2.21</td>\n",
       "      <td>4.86</td>\n",
       "      <td>2.356164</td>\n",
       "    </tr>\n",
       "  </tbody>\n",
       "</table>\n",
       "</div>"
      ],
      "text/plain": [
       "                   Name          Sector  Weight (%)  Notional Value  \\\n",
       "12  COMCAST CORPORATION  Communications     0.13284      1166292.35   \n",
       "22  COMCAST CORPORATION  Communications     0.12227      1073422.36   \n",
       "24   META PLATFORMS INC  Communications     0.12065      1059267.82   \n",
       "31  COMCAST CORPORATION  Communications     0.11518      1011251.48   \n",
       "57  COMCAST CORPORATION  Communications     0.10362       909704.95   \n",
       "\n",
       "        CUSIP  Duration  YTM (%)      Maturity  Coupon (%)  Mod. Duration  \\\n",
       "12  20030NDU2     17.87     5.25  Nov 01, 2056        2.94          17.66   \n",
       "22  20030NCT6      4.66     4.75  Oct 15, 2028        4.15           4.71   \n",
       "24  30303M8J4     14.91     5.51  Aug 15, 2052        4.45          14.85   \n",
       "31  20030NDS7     16.71     5.24  Nov 01, 2051        2.89          16.67   \n",
       "57  20030NCS8      2.14     4.86  Oct 15, 2025        3.95           2.21   \n",
       "\n",
       "    Yield to Worst (%)  MaturityYears  \n",
       "12                5.25      33.424658  \n",
       "22                4.75       5.358904  \n",
       "24                5.51      29.208219  \n",
       "31                5.24      28.419178  \n",
       "57                4.86       2.356164  "
      ]
     },
     "execution_count": 79,
     "metadata": {},
     "output_type": "execute_result"
    }
   ],
   "source": [
    "df3.sort_values('MaturityYears')\n",
    "df3.head(5)"
   ]
  },
  {
   "cell_type": "code",
   "execution_count": 85,
   "metadata": {},
   "outputs": [
    {
     "data": {
      "image/png": "[encoded data removed]",
      "text/plain": [
       "<Figure size 640x480 with 1 Axes>"
      ]
     },
     "metadata": {},
     "output_type": "display_data"
    }
   ],
   "source": [
    "time = np.array(df3[\"MaturityYears\"])\n",
    "yld = np.array(df3[\"Yield to Worst (%)\"])\n",
    "\n",
    "plt.plot(time,yld, \"r+\");"
   ]
  },
  {
   "cell_type": "code",
   "execution_count": 86,
   "metadata": {},
   "outputs": [
    {
     "data": {
      "text/plain": [
       "NelsonSiegelCurve(beta0=5.510450228049193, beta1=1.517219654871389, beta2=-4.981899944447357, tau=1.450489974535028)"
      ]
     },
     "execution_count": 86,
     "metadata": {},
     "output_type": "execute_result"
    }
   ],
   "source": [
    "curve, status = calibrate_ns_ols(\n",
    "    time,yld, tau0=0.10\n",
    ")  # starting value of 1.0 for the optimization of tau\n",
    "assert status.success\n",
    "curve"
   ]
  },
  {
   "cell_type": "code",
   "execution_count": 87,
   "metadata": {},
   "outputs": [
    {
     "data": {
      "image/png": "[encoded data removed]",
      "text/plain": [
       "<Figure size 640x480 with 1 Axes>"
      ]
     },
     "metadata": {},
     "output_type": "display_data"
    }
   ],
   "source": [
    "fig, ax = plt.subplots(nrows=1, ncols=1)\n",
    "fig.suptitle(\"Calibrated Nelson-Siegel Curve\")\n",
    "ax.plot(time, yld, \"r+\")\n",
    "t2 = np.linspace(0, 50)\n",
    "ax.plot(t2, curve(t2), \"b-\");"
   ]
  },
  {
   "cell_type": "code",
   "execution_count": 88,
   "metadata": {},
   "outputs": [],
   "source": [
    "taus = np.linspace(0.05, 10, 300)\n",
    "err = np.array([errorfn_ns_ols(tau, yld, time) for tau in taus])"
   ]
  },
  {
   "cell_type": "code",
   "execution_count": 89,
   "metadata": {},
   "outputs": [
    {
     "data": {
      "image/png": "[encoded data removed]",
      "text/plain": [
       "<Figure size 640x480 with 1 Axes>"
      ]
     },
     "metadata": {},
     "output_type": "display_data"
    }
   ],
   "source": [
    "fig, ax = plt.subplots(nrows=1, ncols=1)\n",
    "fig.suptitle(\"Error function given tau\")\n",
    "ax.plot(taus, err);"
   ]
  },
  {
   "attachments": {},
   "cell_type": "markdown",
   "metadata": {},
   "source": [
    "# Calculate distance of each bond's yield from the curve"
   ]
  },
  {
   "cell_type": "code",
   "execution_count": 93,
   "metadata": {},
   "outputs": [],
   "source": [
    "Yhat = df3['Yield to Worst (%)'].apply(curve)\n",
    "df3.loc[:,'Yhat'] = Yhat\n",
    "\n"
   ]
  },
  {
   "cell_type": "code",
   "execution_count": 94,
   "metadata": {},
   "outputs": [],
   "source": [
    "Spread_to_Curve = df3['Yield to Worst (%)'] - df3['Yhat']\n",
    "df3.loc[:,'Spread to Curve'] = Spread_to_Curve"
   ]
  },
  {
   "attachments": {},
   "cell_type": "markdown",
   "metadata": {},
   "source": [
    "# Calculate additional performance driven by compression of bond's yield to the curve\n",
    "% Change in Price = - Duration x Change in Spread"
   ]
  },
  {
   "cell_type": "code",
   "execution_count": 96,
   "metadata": {},
   "outputs": [],
   "source": [
    "df3.loc[:,'Implied Performance'] = df3['Duration'] * df3['Spread to Curve']"
   ]
  },
  {
   "cell_type": "code",
   "execution_count": 98,
   "metadata": {},
   "outputs": [],
   "source": [
    "df_final = df3\n",
    "# Write the DataFrame to an Excel file\n",
    "df_final.to_excel('NS_output.xlsx', index=False)"
   ]
  }
 ],
 "metadata": {
  "kernelspec": {
   "display_name": ".venv",
   "language": "python",
   "name": "python3"
  },
  "language_info": {
   "codemirror_mode": {
    "name": "ipython",
    "version": 3
   },
   "file_extension": ".py",
   "mimetype": "text/x-python",
   "name": "python",
   "nbconvert_exporter": "python",
   "pygments_lexer": "ipython3",
   "version": "3.11.3"
  },
  "orig_nbformat": 4
 },
 "nbformat": 4,
 "nbformat_minor": 2
}

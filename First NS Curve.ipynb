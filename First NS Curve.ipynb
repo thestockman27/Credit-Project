{
 "cells": [
  {
   "attachments": {},
   "cell_type": "markdown",
   "metadata": {},
   "source": [
    "okay...let's try to import some data and then clean it up using pandas in order to fit a curve\n",
    "https://www.ishares.com/us/products/239566/ishares-iboxx-investment-grade-corporate-bond-etf"
   ]
  },
  {
   "cell_type": "code",
   "execution_count": 147,
   "metadata": {},
   "outputs": [],
   "source": [
    "import pandas as pd"
   ]
  },
  {
   "cell_type": "code",
   "execution_count": 158,
   "metadata": {},
   "outputs": [],
   "source": [
    "df = pd.read_csv('C:/Users/dstoc/Documents/Python Scripts/First Project/USIG_holdings.csv')"
   ]
  },
  {
   "cell_type": "code",
   "execution_count": 159,
   "metadata": {},
   "outputs": [
    {
     "name": "stdout",
     "output_type": "stream",
     "text": [
      "                                Name                   Sector   Asset Class  \\\n",
      "0     BLK CSH FND TREASURY SL AGENCY  Cash and/or Derivatives  Money Market   \n",
      "1       ANHEUSER-BUSCH COMPANIES LLC    Consumer Non-Cyclical  Fixed Income   \n",
      "2                    CVS HEALTH CORP    Consumer Non-Cyclical  Fixed Income   \n",
      "3        GOLDMAN SACHS GROUP INC/THE                  Banking  Fixed Income   \n",
      "4                   T-MOBILE USA INC           Communications  Fixed Income   \n",
      "5  PFIZER INVESTMENT ENTERPRISES PTE    Consumer Non-Cyclical  Fixed Income   \n",
      "6           WARNERMEDIA HOLDINGS INC           Communications  Fixed Income   \n",
      "7               BANK OF AMERICA CORP                  Banking  Fixed Income   \n",
      "8                          BOEING CO            Capital Goods  Fixed Income   \n",
      "9                           AT&T INC           Communications  Fixed Income   \n",
      "\n",
      "    Market Value  Weight (%) Notional Value      Par Value      CUSIP  \\\n",
      "0  87,579,000.05        0.98  87,579,000.05  87,579,000.00   66922477   \n",
      "1  10,347,113.59        0.12  10,347,113.59  10,715,000.00  03522AAJ9   \n",
      "2   8,431,615.66        0.09   8,431,615.66   9,144,000.00  126650CZ1   \n",
      "3   7,109,942.33        0.08   7,109,942.33   6,600,000.00  38141GFD1   \n",
      "4   6,994,549.62        0.08   6,994,549.62   7,517,000.00  87264ABF1   \n",
      "5   6,974,796.78        0.08   6,974,796.78   6,760,000.00  716973AG7   \n",
      "6   6,226,579.86        0.07   6,226,579.86   7,750,000.00  55903VBE2   \n",
      "7   6,143,741.97        0.07   6,143,741.97   6,577,000.00  06051GHD4   \n",
      "8   6,110,688.83        0.07   6,110,688.83   6,214,000.00  097023CW3   \n",
      "9   5,991,475.32        0.07   5,991,475.32   8,569,000.00  00206RKJ0   \n",
      "\n",
      "           ISIN    SEDOL  ...   Maturity Coupon (%) Mod. Duration  \\\n",
      "0  US0669224778  6922477  ...          -       5.15          0.02   \n",
      "1  US03522AAJ97  BJXS2M9  ...   1-Feb-46       4.90         13.10   \n",
      "2  US126650CZ11  BF4JKH4  ...  25-Mar-48       5.05         13.39   \n",
      "3  US38141GFD16  B283338  ...   1-Oct-37       6.75          9.19   \n",
      "4  US87264ABF12  BN0ZLW4  ...  15-Apr-30       3.88          5.88   \n",
      "5  US716973AG71  BQ66T84  ...  19-May-53       5.30         15.12   \n",
      "6  US55903VBE20  BN70SX2  ...  15-Mar-52       5.14         13.08   \n",
      "7  US06051GHD43  BF50RK8  ...  20-Dec-28       3.42          4.86   \n",
      "8  US097023CW33  BM8R6R5  ...   1-May-50       5.80         13.32   \n",
      "9  US00206RKJ04  BNTFQF3  ...  15-Sep-53       3.50         15.81   \n",
      "\n",
      "  Yield to Call (%)  Yield to Worst (%)  Real Duration  Real YTM (%)  \\\n",
      "0                 -                4.62           0.02          4.62   \n",
      "1                 -                5.29          13.10          5.29   \n",
      "2                 -                5.71          13.39          5.71   \n",
      "3                 -                6.06           9.19          6.06   \n",
      "4                 -                5.18           5.88          5.18   \n",
      "5                 -                5.10          15.01          5.10   \n",
      "6                 -                6.79          13.08          6.79   \n",
      "7                 -                5.46           4.06          5.46   \n",
      "8                 -                5.97          13.32          5.97   \n",
      "9                 -                5.63          15.81          5.63   \n",
      "\n",
      "  Market Currency  Accrual Date  Effective Date  \n",
      "0             USD             -        4-Feb-09  \n",
      "1             USD      1-Feb-19       13-May-19  \n",
      "2             USD      9-Mar-18        9-Mar-18  \n",
      "3             USD      3-Oct-07        3-Oct-07  \n",
      "4             USD     15-Apr-21       21-May-21  \n",
      "5             USD     19-May-23       19-May-23  \n",
      "6             USD     15-Mar-23       28-Apr-23  \n",
      "7             USD     20-Dec-17       22-May-18  \n",
      "8             USD      4-May-20        4-May-20  \n",
      "9             USD     15-Mar-21        3-Sep-21  \n",
      "\n",
      "[10 rows x 27 columns]\n"
     ]
    }
   ],
   "source": [
    "print(df.head(10))"
   ]
  },
  {
   "cell_type": "code",
   "execution_count": 160,
   "metadata": {},
   "outputs": [
    {
     "name": "stdout",
     "output_type": "stream",
     "text": [
      "<bound method NDFrame.tail of                                        Name  \\\n",
      "0            BLK CSH FND TREASURY SL AGENCY   \n",
      "1              ANHEUSER-BUSCH COMPANIES LLC   \n",
      "2                           CVS HEALTH CORP   \n",
      "3               GOLDMAN SACHS GROUP INC/THE   \n",
      "4                          T-MOBILE USA INC   \n",
      "...                                     ...   \n",
      "9714       OCCIDENTAL PETROLEUM CORPORATION   \n",
      "9715                  LPL HOLDINGS INC 144A   \n",
      "9716  CITIGROUP GLOBAL MARKETS HOLDINGS MTN   \n",
      "9717                 The Nature Conservancy   \n",
      "9718                   QUANTA SERVICES INC.   \n",
      "\n",
      "                                  Sector   Asset Class   Market Value  \\\n",
      "0                Cash and/or Derivatives  Money Market  87,579,000.05   \n",
      "1                  Consumer Non-Cyclical  Fixed Income  10,347,113.59   \n",
      "2                  Consumer Non-Cyclical  Fixed Income   8,431,615.66   \n",
      "3                                Banking  Fixed Income   7,109,942.33   \n",
      "4                         Communications  Fixed Income   6,994,549.62   \n",
      "...                                  ...           ...            ...   \n",
      "9714                              Energy  Fixed Income       4,402.01   \n",
      "9715  Brokerage/Asset Managers/Exchanges  Fixed Income       4,436.61   \n",
      "9716                             Banking  Fixed Income       4,785.14   \n",
      "9717                   Consumer Cyclical  Fixed Income       4,143.58   \n",
      "9718                    Industrial Other  Fixed Income         936.96   \n",
      "\n",
      "      Weight (%) Notional Value      Par Value      CUSIP          ISIN  \\\n",
      "0           0.98  87,579,000.05  87,579,000.00   66922477  US0669224778   \n",
      "1           0.12  10,347,113.59  10,715,000.00  03522AAJ9  US03522AAJ97   \n",
      "2           0.09   8,431,615.66   9,144,000.00  126650CZ1  US126650CZ11   \n",
      "3           0.08   7,109,942.33   6,600,000.00  38141GFD1  US38141GFD16   \n",
      "4           0.08   6,994,549.62   7,517,000.00  87264ABF1  US87264ABF12   \n",
      "...          ...            ...            ...        ...           ...   \n",
      "9714        0.00       4,402.01       5,000.00  674599CS2  US674599CS21   \n",
      "9715        0.00       4,436.61       5,000.00  50212YAD6  US50212YAD67   \n",
      "9716        0.00       4,785.14       5,000.00  17329FXG4  US17329FXG44   \n",
      "9717        0.00       4,143.58       5,000.00  63902HBF5  US63902HBF55   \n",
      "9718        0.00         936.96       1,000.00  74762EAG7  US74762EAG70   \n",
      "\n",
      "        SEDOL  ...   Maturity Coupon (%) Mod. Duration Yield to Call (%)  \\\n",
      "0     6922477  ...          -       5.15          0.02                 -   \n",
      "1     BJXS2M9  ...   1-Feb-46       4.90         13.10                 -   \n",
      "2     BF4JKH4  ...  25-Mar-48       5.05         13.39                 -   \n",
      "3     B283338  ...   1-Oct-37       6.75          9.19                 -   \n",
      "4     BN0ZLW4  ...  15-Apr-30       3.88          5.88                 -   \n",
      "...       ...  ...        ...        ...           ...               ...   \n",
      "9714  BKKGQK9  ...  15-Aug-29       3.50          5.35                 -   \n",
      "9715        -  ...  15-Mar-29       4.00          4.97                 -   \n",
      "9716        -  ...   7-Jun-24       0.75          0.98                 -   \n",
      "9717        -  ...   1-Mar-52       3.96         15.56                 -   \n",
      "9718        -  ...   1-Oct-24       0.95          1.28                 -   \n",
      "\n",
      "      Yield to Worst (%)  Real Duration  Real YTM (%) Market Currency  \\\n",
      "0                   4.62           0.02          4.62             USD   \n",
      "1                   5.29          13.10          5.29             USD   \n",
      "2                   5.71          13.39          5.71             USD   \n",
      "3                   6.06           9.19          6.06             USD   \n",
      "4                   5.18           5.88          5.18             USD   \n",
      "...                  ...            ...           ...             ...   \n",
      "9714                6.04           5.35          6.04             USD   \n",
      "9715                6.55           4.97          6.55             USD   \n",
      "9716                5.54           0.98          5.54             USD   \n",
      "9717                5.18          15.56          5.18             USD   \n",
      "9718                6.08           1.28          6.08             USD   \n",
      "\n",
      "      Accrual Date  Effective Date  \n",
      "0                -        4-Feb-09  \n",
      "1         1-Feb-19       13-May-19  \n",
      "2         9-Mar-18        9-Mar-18  \n",
      "3         3-Oct-07        3-Oct-07  \n",
      "4        15-Apr-21       21-May-21  \n",
      "...            ...             ...  \n",
      "9714      8-Aug-19        8-Aug-19  \n",
      "9715     15-Mar-21       15-Mar-21  \n",
      "9716      7-Jun-21        7-Jun-21  \n",
      "9717      3-Mar-22        3-Mar-22  \n",
      "9718     23-Sep-21       23-Sep-21  \n",
      "\n",
      "[9719 rows x 27 columns]>\n"
     ]
    }
   ],
   "source": [
    "print(df.tail)"
   ]
  },
  {
   "cell_type": "code",
   "execution_count": 161,
   "metadata": {},
   "outputs": [
    {
     "data": {
      "text/plain": [
       "['Name',\n",
       " 'Sector',\n",
       " 'Asset Class',\n",
       " 'Market Value',\n",
       " 'Weight (%)',\n",
       " 'Notional Value',\n",
       " 'Par Value',\n",
       " 'CUSIP',\n",
       " 'ISIN',\n",
       " 'SEDOL',\n",
       " 'Price',\n",
       " 'Location',\n",
       " 'Exchange',\n",
       " 'Currency',\n",
       " 'Duration',\n",
       " 'YTM (%)',\n",
       " 'FX Rate',\n",
       " 'Maturity',\n",
       " 'Coupon (%)',\n",
       " 'Mod. Duration',\n",
       " 'Yield to Call (%)',\n",
       " 'Yield to Worst (%)',\n",
       " 'Real Duration',\n",
       " 'Real YTM (%)',\n",
       " 'Market Currency',\n",
       " 'Accrual Date',\n",
       " 'Effective Date']"
      ]
     },
     "execution_count": 161,
     "metadata": {},
     "output_type": "execute_result"
    }
   ],
   "source": [
    "list(df.columns)"
   ]
  },
  {
   "cell_type": "code",
   "execution_count": 172,
   "metadata": {},
   "outputs": [],
   "source": [
    "df2 = df[['Name',\n",
    " 'Sector',\n",
    " 'Weight (%)',\n",
    " 'Notional Value',\n",
    " 'CUSIP',\n",
    " 'Price',\n",
    " 'Duration',\n",
    " 'YTM (%)',\n",
    " 'Maturity',\n",
    " 'Coupon (%)',\n",
    " 'Mod. Duration',\n",
    " 'Yield to Worst (%)']]\n",
    "\n",
    "df2 = df2.iloc[1:len(df2),]"
   ]
  },
  {
   "cell_type": "code",
   "execution_count": 173,
   "metadata": {},
   "outputs": [
    {
     "name": "stdout",
     "output_type": "stream",
     "text": [
      "22.673972602739727\n"
     ]
    }
   ],
   "source": [
    "from datetime import datetime\n",
    "date_str = \"1-Feb-46\"\n",
    "date_format = \"%d-%b-%y\"\n",
    "\n",
    "# Convert the date string to a datetime object\n",
    "date_obj = datetime.strptime(date_str, date_format)\n",
    "\n",
    "# Get the current date as a datetime object\n",
    "current_date = datetime.now()\n",
    "\n",
    "# Calculate the difference in days\n",
    "years_away = (date_obj - current_date).days / 365\n",
    "\n",
    "print(years_away)"
   ]
  },
  {
   "cell_type": "code",
   "execution_count": 174,
   "metadata": {},
   "outputs": [
    {
     "name": "stdout",
     "output_type": "stream",
     "text": [
      "        Date  Days Away\n",
      "0  13-May-19      -1485\n",
      "1  15-Jun-19      -1452\n",
      "2  22-Jul-19      -1415\n"
     ]
    }
   ],
   "source": [
    "import pandas as pd\n",
    "from datetime import datetime\n",
    "\n",
    "# Create a sample DataFrame with a 'Date' column\n",
    "data = {'Date': ['13-May-19', '15-Jun-19', '22-Jul-19']}\n",
    "df_example = pd.DataFrame(data)\n",
    "\n",
    "# Define the date format\n",
    "date_format = \"%d-%b-%y\"\n",
    "\n",
    "# Define a function to convert a date string to the number of days away\n",
    "def convert_to_days(date_str):\n",
    "    date_obj = datetime.strptime(date_str, date_format)\n",
    "    current_date = datetime.now()\n",
    "    days_away = (date_obj - current_date).days\n",
    "    return days_away\n",
    "\n",
    "# Apply the function to the 'Date' column\n",
    "df_example['Days Away'] = df_example['Date'].apply(convert_to_days)\n",
    "\n",
    "# Print the updated DataFrame\n",
    "print(df_example)\n"
   ]
  },
  {
   "cell_type": "code",
   "execution_count": 175,
   "metadata": {},
   "outputs": [
    {
     "name": "stdout",
     "output_type": "stream",
     "text": [
      "                                       Name  \\\n",
      "1              ANHEUSER-BUSCH COMPANIES LLC   \n",
      "2                           CVS HEALTH CORP   \n",
      "3               GOLDMAN SACHS GROUP INC/THE   \n",
      "4                          T-MOBILE USA INC   \n",
      "5         PFIZER INVESTMENT ENTERPRISES PTE   \n",
      "...                                     ...   \n",
      "9714       OCCIDENTAL PETROLEUM CORPORATION   \n",
      "9715                  LPL HOLDINGS INC 144A   \n",
      "9716  CITIGROUP GLOBAL MARKETS HOLDINGS MTN   \n",
      "9717                 The Nature Conservancy   \n",
      "9718                   QUANTA SERVICES INC.   \n",
      "\n",
      "                                  Sector  Weight (%) Notional Value  \\\n",
      "1                  Consumer Non-Cyclical        0.12  10,347,113.59   \n",
      "2                  Consumer Non-Cyclical        0.09   8,431,615.66   \n",
      "3                                Banking        0.08   7,109,942.33   \n",
      "4                         Communications        0.08   6,994,549.62   \n",
      "5                  Consumer Non-Cyclical        0.08   6,974,796.78   \n",
      "...                                  ...         ...            ...   \n",
      "9714                              Energy        0.00       4,402.01   \n",
      "9715  Brokerage/Asset Managers/Exchanges        0.00       4,436.61   \n",
      "9716                             Banking        0.00       4,785.14   \n",
      "9717                   Consumer Cyclical        0.00       4,143.58   \n",
      "9718                    Industrial Other        0.00         936.96   \n",
      "\n",
      "          CUSIP   Price  Duration  YTM (%)   Maturity  Coupon (%)  \\\n",
      "1     03522AAJ9   94.92     13.02     5.29   1-Feb-46        4.90   \n",
      "2     126650CZ1   91.27     13.35     5.71  25-Mar-48        5.05   \n",
      "3     38141GFD1  106.58      9.32     6.06   1-Oct-37        6.75   \n",
      "4     87264ABF1   92.54      5.86     5.18  15-Apr-30        3.88   \n",
      "5     716973AG7  102.98     15.14     5.10  19-May-53        5.30   \n",
      "...         ...     ...       ...      ...        ...         ...   \n",
      "9714  674599CS2   87.00      5.38     6.04  15-Aug-29        3.50   \n",
      "9715  50212YAD6   87.88      4.65     6.55  15-Mar-29        4.00   \n",
      "9716  17329FXG4   95.34      0.98     5.54   7-Jun-24        0.75   \n",
      "9717  63902HBF5   81.87     15.57     5.18   1-Mar-52        3.96   \n",
      "9718  74762EAG7   93.54      1.29     6.08   1-Oct-24        0.95   \n",
      "\n",
      "      Mod. Duration  Yield to Worst (%)  MaturityYears  \n",
      "1             13.10                5.29      22.673973  \n",
      "2             13.39                5.71      24.819178  \n",
      "3              9.19                6.06      14.331507  \n",
      "4              5.88                5.18       6.863014  \n",
      "5             15.12                5.10      29.972603  \n",
      "...             ...                 ...            ...  \n",
      "9714           5.35                6.04       6.197260  \n",
      "9715           4.97                6.55       5.778082  \n",
      "9716           0.98                5.54       1.005479  \n",
      "9717          15.56                5.18      28.756164  \n",
      "9718           1.28                6.08       1.323288  \n",
      "\n",
      "[9718 rows x 13 columns]\n"
     ]
    }
   ],
   "source": [
    "import pandas as pd\n",
    "from datetime import datetime, timedelta\n",
    "\n",
    "# Create a sample DataFrame with a 'Date' column\n",
    "#data = {'Date': ['13-May-19', '15-Jun-19', '22-Jul-19']}\n",
    "#df = pd.DataFrame(data)\n",
    "\n",
    "# Define the date format\n",
    "date_format = \"%d-%b-%y\"\n",
    "\n",
    "# Define a function to convert a date string to the number of days away\n",
    "def convert_to_years(date_str):\n",
    "    date_obj = datetime.strptime(date_str, date_format)\n",
    "    current_date = datetime.now()\n",
    "    years_away = (date_obj - current_date).days / 365\n",
    "\n",
    "    if years_away < 0:\n",
    "        years_away = years_away + 100  # Add 100 years (365.25 days per year on average)\n",
    "    \n",
    "    return years_away\n",
    "\n",
    "# Apply the function to the 'Date' column\n",
    "df2['MaturityYears'] = df2['Maturity'].apply(convert_to_years)\n",
    "\n",
    "# Print the updated DataFrame\n",
    "print(df2)\n"
   ]
  },
  {
   "cell_type": "code",
   "execution_count": 176,
   "metadata": {},
   "outputs": [],
   "source": [
    "import numpy as np\n",
    "from nelson_siegel_svensson.calibrate import calibrate_ns_ols, errorfn_ns_ols\n",
    "from matplotlib import pyplot as plt"
   ]
  },
  {
   "cell_type": "code",
   "execution_count": 177,
   "metadata": {},
   "outputs": [
    {
     "data": {
      "text/plain": [
       "<bound method NDFrame.head of                                     Name          Sector  Weight (%)  \\\n",
       "4                       T-MOBILE USA INC  Communications        0.08   \n",
       "6               WARNERMEDIA HOLDINGS INC  Communications        0.07   \n",
       "9                               AT&T INC  Communications        0.07   \n",
       "10                              AT&T INC  Communications        0.07   \n",
       "27    DEUTSCHE TELEKOM INTERNATIONAL FIN  Communications        0.06   \n",
       "...                                  ...             ...         ...   \n",
       "9607                  VODAFONE GROUP PLC  Communications        0.00   \n",
       "9673                            AT&T INC  Communications        0.00   \n",
       "9694                  VODAFONE GROUP PLC  Communications        0.00   \n",
       "9710                          SPRINT LLC  Communications        0.00   \n",
       "9712                          SPRINT LLC  Communications        0.00   \n",
       "\n",
       "     Notional Value      CUSIP   Price  Duration  YTM (%)   Maturity  \\\n",
       "4      6,994,549.62  87264ABF1   92.54      5.86     5.18  15-Apr-30   \n",
       "6      6,226,579.86  55903VBE2   79.24     13.20     6.79  15-Mar-52   \n",
       "9      5,991,475.32  00206RKJ0   69.17     15.92     5.63  15-Sep-53   \n",
       "10     5,930,124.31  00206RLJ9   68.45     16.19     5.70  15-Sep-55   \n",
       "27     4,942,674.69  25156PAC7  120.22      5.30     5.27  15-Jun-30   \n",
       "...             ...        ...     ...       ...      ...        ...   \n",
       "9607      61,577.13  92857WBL3   94.71     10.41     5.52  30-May-38   \n",
       "9673      36,049.50  78387GAQ6  101.68      8.11     5.94  15-Sep-34   \n",
       "9694      23,074.54  92857WBM1   92.27     13.40     5.84  30-May-48   \n",
       "9710       5,217.20  85207UAH8  101.04      0.97     6.07  15-Jun-24   \n",
       "9712       5,228.17  85207UAJ4  102.30      1.36     6.17  15-Feb-25   \n",
       "\n",
       "      Coupon (%)  Mod. Duration  Yield to Worst (%)  MaturityYears  \n",
       "4           3.88           5.88                5.18       6.863014  \n",
       "6           5.14          13.08                6.79      28.794521  \n",
       "9           3.50          15.81                5.63      30.298630  \n",
       "10          3.55          16.02                5.70      32.298630  \n",
       "27          8.75           5.24                5.27       7.030137  \n",
       "...          ...            ...                 ...            ...  \n",
       "9607        5.00          10.30                5.52      14.991781  \n",
       "9673        6.15           7.99                5.94      11.284932  \n",
       "9694        5.25          13.35                5.84      25.000000  \n",
       "9710        7.13           0.96                6.07       1.027397  \n",
       "9712        7.63           1.55                5.95       1.698630  \n",
       "\n",
       "[518 rows x 13 columns]>"
      ]
     },
     "execution_count": 177,
     "metadata": {},
     "output_type": "execute_result"
    }
   ],
   "source": [
    "df3 = df2.loc[df2['Sector'] == 'Communications']\n",
    "df3.head"
   ]
  },
  {
   "cell_type": "code",
   "execution_count": 178,
   "metadata": {},
   "outputs": [
    {
     "data": {
      "text/html": [
       "<div>\n",
       "<style scoped>\n",
       "    .dataframe tbody tr th:only-of-type {\n",
       "        vertical-align: middle;\n",
       "    }\n",
       "\n",
       "    .dataframe tbody tr th {\n",
       "        vertical-align: top;\n",
       "    }\n",
       "\n",
       "    .dataframe thead th {\n",
       "        text-align: right;\n",
       "    }\n",
       "</style>\n",
       "<table border=\"1\" class=\"dataframe\">\n",
       "  <thead>\n",
       "    <tr style=\"text-align: right;\">\n",
       "      <th></th>\n",
       "      <th>Name</th>\n",
       "      <th>Sector</th>\n",
       "      <th>Weight (%)</th>\n",
       "      <th>Notional Value</th>\n",
       "      <th>CUSIP</th>\n",
       "      <th>Price</th>\n",
       "      <th>Duration</th>\n",
       "      <th>YTM (%)</th>\n",
       "      <th>Maturity</th>\n",
       "      <th>Coupon (%)</th>\n",
       "      <th>Mod. Duration</th>\n",
       "      <th>Yield to Worst (%)</th>\n",
       "      <th>MaturityYears</th>\n",
       "    </tr>\n",
       "  </thead>\n",
       "  <tbody>\n",
       "    <tr>\n",
       "      <th>4</th>\n",
       "      <td>T-MOBILE USA INC</td>\n",
       "      <td>Communications</td>\n",
       "      <td>0.08</td>\n",
       "      <td>6,994,549.62</td>\n",
       "      <td>87264ABF1</td>\n",
       "      <td>92.54</td>\n",
       "      <td>5.86</td>\n",
       "      <td>5.18</td>\n",
       "      <td>15-Apr-30</td>\n",
       "      <td>3.88</td>\n",
       "      <td>5.88</td>\n",
       "      <td>5.18</td>\n",
       "      <td>6.863014</td>\n",
       "    </tr>\n",
       "    <tr>\n",
       "      <th>6</th>\n",
       "      <td>WARNERMEDIA HOLDINGS INC</td>\n",
       "      <td>Communications</td>\n",
       "      <td>0.07</td>\n",
       "      <td>6,226,579.86</td>\n",
       "      <td>55903VBE2</td>\n",
       "      <td>79.24</td>\n",
       "      <td>13.20</td>\n",
       "      <td>6.79</td>\n",
       "      <td>15-Mar-52</td>\n",
       "      <td>5.14</td>\n",
       "      <td>13.08</td>\n",
       "      <td>6.79</td>\n",
       "      <td>28.794521</td>\n",
       "    </tr>\n",
       "    <tr>\n",
       "      <th>9</th>\n",
       "      <td>AT&amp;T INC</td>\n",
       "      <td>Communications</td>\n",
       "      <td>0.07</td>\n",
       "      <td>5,991,475.32</td>\n",
       "      <td>00206RKJ0</td>\n",
       "      <td>69.17</td>\n",
       "      <td>15.92</td>\n",
       "      <td>5.63</td>\n",
       "      <td>15-Sep-53</td>\n",
       "      <td>3.50</td>\n",
       "      <td>15.81</td>\n",
       "      <td>5.63</td>\n",
       "      <td>30.298630</td>\n",
       "    </tr>\n",
       "    <tr>\n",
       "      <th>10</th>\n",
       "      <td>AT&amp;T INC</td>\n",
       "      <td>Communications</td>\n",
       "      <td>0.07</td>\n",
       "      <td>5,930,124.31</td>\n",
       "      <td>00206RLJ9</td>\n",
       "      <td>68.45</td>\n",
       "      <td>16.19</td>\n",
       "      <td>5.70</td>\n",
       "      <td>15-Sep-55</td>\n",
       "      <td>3.55</td>\n",
       "      <td>16.02</td>\n",
       "      <td>5.70</td>\n",
       "      <td>32.298630</td>\n",
       "    </tr>\n",
       "    <tr>\n",
       "      <th>27</th>\n",
       "      <td>DEUTSCHE TELEKOM INTERNATIONAL FIN</td>\n",
       "      <td>Communications</td>\n",
       "      <td>0.06</td>\n",
       "      <td>4,942,674.69</td>\n",
       "      <td>25156PAC7</td>\n",
       "      <td>120.22</td>\n",
       "      <td>5.30</td>\n",
       "      <td>5.27</td>\n",
       "      <td>15-Jun-30</td>\n",
       "      <td>8.75</td>\n",
       "      <td>5.24</td>\n",
       "      <td>5.27</td>\n",
       "      <td>7.030137</td>\n",
       "    </tr>\n",
       "  </tbody>\n",
       "</table>\n",
       "</div>"
      ],
      "text/plain": [
       "                                  Name          Sector  Weight (%)  \\\n",
       "4                     T-MOBILE USA INC  Communications        0.08   \n",
       "6             WARNERMEDIA HOLDINGS INC  Communications        0.07   \n",
       "9                             AT&T INC  Communications        0.07   \n",
       "10                            AT&T INC  Communications        0.07   \n",
       "27  DEUTSCHE TELEKOM INTERNATIONAL FIN  Communications        0.06   \n",
       "\n",
       "   Notional Value      CUSIP   Price  Duration  YTM (%)   Maturity  \\\n",
       "4    6,994,549.62  87264ABF1   92.54      5.86     5.18  15-Apr-30   \n",
       "6    6,226,579.86  55903VBE2   79.24     13.20     6.79  15-Mar-52   \n",
       "9    5,991,475.32  00206RKJ0   69.17     15.92     5.63  15-Sep-53   \n",
       "10   5,930,124.31  00206RLJ9   68.45     16.19     5.70  15-Sep-55   \n",
       "27   4,942,674.69  25156PAC7  120.22      5.30     5.27  15-Jun-30   \n",
       "\n",
       "    Coupon (%)  Mod. Duration  Yield to Worst (%)  MaturityYears  \n",
       "4         3.88           5.88                5.18       6.863014  \n",
       "6         5.14          13.08                6.79      28.794521  \n",
       "9         3.50          15.81                5.63      30.298630  \n",
       "10        3.55          16.02                5.70      32.298630  \n",
       "27        8.75           5.24                5.27       7.030137  "
      ]
     },
     "execution_count": 178,
     "metadata": {},
     "output_type": "execute_result"
    }
   ],
   "source": [
    "df3.sort_values('MaturityYears')\n",
    "df3.head(5)"
   ]
  },
  {
   "cell_type": "code",
   "execution_count": 182,
   "metadata": {},
   "outputs": [
    {
     "data": {
      "image/png": "[encoded data removed]",
      "text/plain": [
       "<Figure size 640x480 with 1 Axes>"
      ]
     },
     "metadata": {},
     "output_type": "display_data"
    }
   ],
   "source": [
    "time = np.array(df3[\"MaturityYears\"])\n",
    "yld = np.array(df3[\"Yield to Worst (%)\"])\n",
    "\n",
    "plt.plot(time,yld, \"r+\");"
   ]
  },
  {
   "cell_type": "code",
   "execution_count": 183,
   "metadata": {},
   "outputs": [
    {
     "data": {
      "text/plain": [
       "NelsonSiegelCurve(beta0=6.186233466626271, beta1=-0.2897318908704771, beta2=-3.066900856606175, tau=1.7043049745893468)"
      ]
     },
     "execution_count": 183,
     "metadata": {},
     "output_type": "execute_result"
    }
   ],
   "source": [
    "curve, status = calibrate_ns_ols(\n",
    "    time,yld, tau0=1.0\n",
    ")  # starting value of 1.0 for the optimization of tau\n",
    "assert status.success\n",
    "curve"
   ]
  },
  {
   "cell_type": "code",
   "execution_count": 184,
   "metadata": {},
   "outputs": [
    {
     "data": {
      "image/png": "[encoded data removed]",
      "text/plain": [
       "<Figure size 640x480 with 1 Axes>"
      ]
     },
     "metadata": {},
     "output_type": "display_data"
    }
   ],
   "source": [
    "fig, ax = plt.subplots(nrows=1, ncols=1)\n",
    "fig.suptitle(\"Calibrated Nelson-Siegel Curve\")\n",
    "ax.plot(time, yld, \"r+\")\n",
    "t2 = np.linspace(0, 50)\n",
    "ax.plot(t2, curve(t2), \"b-\");"
   ]
  },
  {
   "cell_type": "code",
   "execution_count": 185,
   "metadata": {},
   "outputs": [],
   "source": [
    "taus = np.linspace(0.5, 6, 300)\n",
    "err = np.array([errorfn_ns_ols(tau, yld, time) for tau in taus])"
   ]
  },
  {
   "cell_type": "code",
   "execution_count": 186,
   "metadata": {},
   "outputs": [
    {
     "data": {
      "image/png": "[encoded data removed]",
      "text/plain": [
       "<Figure size 640x480 with 1 Axes>"
      ]
     },
     "metadata": {},
     "output_type": "display_data"
    }
   ],
   "source": [
    "fig, ax = plt.subplots(nrows=1, ncols=1)\n",
    "fig.suptitle(\"Error function given tau\")\n",
    "ax.plot(taus, err);"
   ]
  },
  {
   "attachments": {},
   "cell_type": "markdown",
   "metadata": {},
   "source": [
    "# Calculate distance of each bond's yield from the curve"
   ]
  },
  {
   "cell_type": "code",
   "execution_count": 187,
   "metadata": {},
   "outputs": [
    {
     "name": "stderr",
     "output_type": "stream",
     "text": [
      "C:\\Users\\dstoc\\AppData\\Local\\Temp\\ipykernel_3836\\1801459002.py:1: SettingWithCopyWarning: \n",
      "A value is trying to be set on a copy of a slice from a DataFrame.\n",
      "Try using .loc[row_indexer,col_indexer] = value instead\n",
      "\n",
      "See the caveats in the documentation: https://pandas.pydata.org/pandas-docs/stable/user_guide/indexing.html#returning-a-view-versus-a-copy\n",
      "  df3.loc[:,'Yhat'] = df3['Yield to Worst (%)'].apply(curve)\n"
     ]
    }
   ],
   "source": [
    "df3.loc[:,'Yhat'] = df3['Yield to Worst (%)'].apply(curve)\n",
    "\n"
   ]
  },
  {
   "cell_type": "code",
   "execution_count": null,
   "metadata": {},
   "outputs": [],
   "source": []
  },
  {
   "cell_type": "code",
   "execution_count": 190,
   "metadata": {},
   "outputs": [],
   "source": [
    "df3.loc[:,'Spread to Curve'] = df3['Yield to Worst (%)'] - df3['Yhat']"
   ]
  },
  {
   "attachments": {},
   "cell_type": "markdown",
   "metadata": {},
   "source": [
    "# Calculate additional performance driven by compression of bond's yield to the curve\n",
    "% Change in Price = - Duration x Change in Spread"
   ]
  },
  {
   "cell_type": "code",
   "execution_count": 191,
   "metadata": {},
   "outputs": [
    {
     "name": "stderr",
     "output_type": "stream",
     "text": [
      "C:\\Users\\dstoc\\AppData\\Local\\Temp\\ipykernel_3836\\1103910078.py:1: SettingWithCopyWarning: \n",
      "A value is trying to be set on a copy of a slice from a DataFrame.\n",
      "Try using .loc[row_indexer,col_indexer] = value instead\n",
      "\n",
      "See the caveats in the documentation: https://pandas.pydata.org/pandas-docs/stable/user_guide/indexing.html#returning-a-view-versus-a-copy\n",
      "  df3.loc[:,'Implied Performance'] = df3['Duration'] * df3['Spread to Curve']\n"
     ]
    }
   ],
   "source": [
    "df3.loc[:,'Implied Performance'] = df3['Duration'] * df3['Spread to Curve']"
   ]
  }
 ],
 "metadata": {
  "kernelspec": {
   "display_name": ".venv",
   "language": "python",
   "name": "python3"
  },
  "language_info": {
   "codemirror_mode": {
    "name": "ipython",
    "version": 3
   },
   "file_extension": ".py",
   "mimetype": "text/x-python",
   "name": "python",
   "nbconvert_exporter": "python",
   "pygments_lexer": "ipython3",
   "version": "3.11.3"
  },
  "orig_nbformat": 4
 },
 "nbformat": 4,
 "nbformat_minor": 2
}
